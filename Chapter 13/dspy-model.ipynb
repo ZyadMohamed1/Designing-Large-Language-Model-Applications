{
 "cells": [
  {
   "cell_type": "code",
   "execution_count": 8,
   "id": "ab52f028",
   "metadata": {},
   "outputs": [],
   "source": [
    "import dspy\n",
    "from dspy.datasets import HotPotQA\n",
    "from dspy.teleprompt import BootstrapFewShot\n",
    "from dspy.evaluate.evaluate import Evaluate\n",
    "import os\n",
    "os.environ[\"OLLAMA_API_BASE\"] = \"http://localhost:11434\" "
   ]
  },
  {
   "cell_type": "code",
   "execution_count": 19,
   "id": "ec93e9f5",
   "metadata": {},
   "outputs": [],
   "source": [
    "# Configure DSPy with Ollama (Llama3)\n",
    "lm = dspy.LM('ollama_chat/llama3', api_base='http://localhost:11434', api_key='')\n",
    "dspy.configure(lm=lm)\n",
    "\n",
    "# Simple dataset - Animal facts\n",
    "animal_facts = [\n",
    "    \"Elephants are the largest land mammals and can weigh up to 14,000 pounds.\",\n",
    "    \"Dolphins are highly intelligent marine mammals that communicate using clicks and whistles.\",\n",
    "    \"Penguins are flightless birds that live primarily in the Southern Hemisphere.\",\n",
    "    \"Cheetahs are the fastest land animals, capable of reaching speeds of 70 mph.\",\n",
    "    \"Octopuses have three hearts and blue blood.\",\n",
    "    \"Giraffes have the same number of neck vertebrae as humans - seven.\",\n",
    "    \"Sharks have been around for more than 400 million years.\",\n",
    "    \"Bees communicate through a waggle dance to share information about food sources.\"\n",
    "]"
   ]
  },
  {
   "cell_type": "code",
   "execution_count": 20,
   "id": "b72d0ff5",
   "metadata": {},
   "outputs": [],
   "source": [
    "class GenerateAnswer(dspy.Signature):\n",
    "    context = dspy.InputField(desc=\"relevant information\")\n",
    "    question = dspy.InputField()\n",
    "    answer = dspy.OutputField(desc=\"a short, accurate answer\")\n"
   ]
  },
  {
   "cell_type": "code",
   "execution_count": null,
   "id": "273e9f05",
   "metadata": {},
   "outputs": [],
   "source": [
    "class QASystem(dspy.Module):\n",
    "    def __init__(self):\n",
    "        super().__init__()\n",
    "        self.generate_answer = dspy.ChainOfThought(GenerateAnswer)\n",
    "    \n",
    "    def forward(self, question):\n",
    "        # Simple retrieval - find relevant facts\n",
    "        relevant_context = self.retrieve_relevant_facts(question)\n",
    "        \n",
    "        # Generate answer using the context\n",
    "        prediction = self.generate_answer(\n",
    "            context=relevant_context, \n",
    "            question=question\n",
    "        )\n",
    "        return dspy.Prediction(answer=prediction.answer)\n",
    "    \n",
    "    def retrieve_relevant_facts(self, question):\n",
    "        question_lower = question.lower()\n",
    "        relevant_facts = []\n",
    "        \n",
    "        for fact in animal_facts:\n",
    "            # Check if any words in the question appear in the fact\n",
    "            if any(word in fact.lower() for word in question_lower.split() if len(word) > 3):\n",
    "                relevant_facts.append(fact)\n",
    "        \n",
    "        return \" \".join(relevant_facts) if relevant_facts else \"No specific information available.\"\n"
   ]
  },
  {
   "cell_type": "code",
   "execution_count": 22,
   "id": "86427f20",
   "metadata": {},
   "outputs": [],
   "source": [
    "# Initialize the QA system\n",
    "qa_system = QASystem()\n",
    "\n",
    "# Example questions and answers for testing\n",
    "def test_qa_system():\n",
    "    questions = [\n",
    "        \"How fast can a cheetah run?\",\n",
    "        \"What is special about octopus blood?\",\n",
    "        \"How do bees communicate?\",\n",
    "        \"What is the largest land mammal?\",\n",
    "        \"Do giraffes have more neck bones than humans?\"\n",
    "    ]\n",
    "    \n",
    "    print(\"=== Question-Answering Assistant ===\\n\")\n",
    "    \n",
    "    for question in questions:\n",
    "        try:\n",
    "            result = qa_system(question)\n",
    "            print(f\"Q: {question}\")\n",
    "            print(f\"A: {result.answer}\")\n",
    "            print(\"-\" * 50)\n",
    "        except Exception as e:\n",
    "            print(f\"Error answering '{question}': {e}\")\n",
    "            print(\"-\" * 50)"
   ]
  },
  {
   "cell_type": "code",
   "execution_count": 23,
   "id": "dc9b43e8",
   "metadata": {},
   "outputs": [
    {
     "name": "stdout",
     "output_type": "stream",
     "text": [
      "=== Question-Answering Assistant ===\n",
      "\n"
     ]
    },
    {
     "name": "stderr",
     "output_type": "stream",
     "text": [
      "C:\\Users\\zyad3\\AppData\\Local\\Packages\\PythonSoftwareFoundation.Python.3.11_qbz5n2kfra8p0\\LocalCache\\local-packages\\Python311\\site-packages\\pydantic\\main.py:463: UserWarning: Pydantic serializer warnings:\n",
      "  PydanticSerializationUnexpectedValue(Expected 9 fields but got 5: Expected `Message` - serialized value may not be as expected [input_value=Message(content='[[ ## co...er_specific_fields=None), input_type=Message])\n",
      "  PydanticSerializationUnexpectedValue(Expected `StreamingChoices` - serialized value may not be as expected [input_value=Choices(finish_reason='st...r_specific_fields=None)), input_type=Choices])\n",
      "  return self.__pydantic_serializer__.to_python(\n"
     ]
    },
    {
     "name": "stdout",
     "output_type": "stream",
     "text": [
      "Q: How fast can a cheetah run?\n",
      "A: Up to 70 mph\n",
      "--------------------------------------------------\n",
      "Q: What is special about octopus blood?\n",
      "A: Octopus blood is blue due to its unique composition containing hemocyanin, which replaces the need for hemoglobin.\n",
      "--------------------------------------------------\n",
      "Q: How do bees communicate?\n",
      "A: Bees communicate through a waggle dance, as well as chemical signals, body language, and vibrations.\n",
      "--------------------------------------------------\n",
      "Q: What is the largest land mammal?\n",
      "A: Elephants\n",
      "--------------------------------------------------\n",
      "Q: Do giraffes have more neck bones than humans?\n",
      "A: No\n",
      "--------------------------------------------------\n",
      "\n",
      "=== Interactive Mode ===\n",
      "Ask questions about animals (type 'quit' to exit):\n"
     ]
    }
   ],
   "source": [
    "# Run the test\n",
    "if __name__ == \"__main__\":\n",
    "    test_qa_system()\n",
    "    \n",
    "    # Interactive mode\n",
    "    print(\"\\n=== Interactive Mode ===\")\n",
    "    print(\"Ask questions about animals (type 'quit' to exit):\")\n",
    "    \n",
    "    while True:\n",
    "        question = input(\"\\nYour question: \").strip()\n",
    "        if question.lower() in ['quit', 'exit', 'q']:\n",
    "            break\n",
    "        \n",
    "        if question:\n",
    "            try:\n",
    "                result = qa_system(question)\n",
    "                print(f\"Answer: {result.answer}\")\n",
    "            except Exception as e:\n",
    "                print(f\"Error: {e}\")\n",
    "        else:\n",
    "            print(\"Please enter a question.\")"
   ]
  },
  {
   "cell_type": "code",
   "execution_count": null,
   "id": "e61233eb",
   "metadata": {},
   "outputs": [],
   "source": []
  }
 ],
 "metadata": {
  "kernelspec": {
   "display_name": "Python 3",
   "language": "python",
   "name": "python3"
  },
  "language_info": {
   "codemirror_mode": {
    "name": "ipython",
    "version": 3
   },
   "file_extension": ".py",
   "mimetype": "text/x-python",
   "name": "python",
   "nbconvert_exporter": "python",
   "pygments_lexer": "ipython3",
   "version": "3.11.9"
  }
 },
 "nbformat": 4,
 "nbformat_minor": 5
}
